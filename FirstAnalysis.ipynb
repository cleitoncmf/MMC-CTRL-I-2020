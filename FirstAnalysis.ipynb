{
 "metadata": {
  "language_info": {
   "codemirror_mode": {
    "name": "ipython",
    "version": 3
   },
   "file_extension": ".py",
   "mimetype": "text/x-python",
   "name": "python",
   "nbconvert_exporter": "python",
   "pygments_lexer": "ipython3",
   "version": "3.7.2-final"
  },
  "orig_nbformat": 2,
  "kernelspec": {
   "name": "c54f390b-6a23-4e1c-9cbd-730e43f2f970",
   "display_name": "'Python Interactive'"
  }
 },
 "nbformat": 4,
 "nbformat_minor": 2,
 "cells": [
  {
   "cell_type": "markdown",
   "metadata": {},
   "source": [
    "<div class=\"alert alert-block alert-info\">\n",
    "    <img src=\"https://www.uerj.br/wp-content/uploads/2019/07/logo-70anos-site.svg\" alt=\"Trulli\" width=\"220\" align=\"left\">\n",
    "    <center style=\"width: 80%;\">\n",
    "        <div> <b>Author:</b> Cleiton Magalhães Freitas</div>\n",
    "        <div> <b>Department:</b> Electrical Engineering Department</div>\n",
    "        <div> <b>University:</b> Rio de Janeiro State University</div>\n",
    "        <div> <b>Email:</b> cleiton.freitas@uerj.br</div>\n",
    "        <div> <b>Date:</b> August 11, 2020</div>\n",
    "        <div style=\"display: table;\">\n",
    "            <div style=\"width: 17%; display: table-cell;\">\n",
    "                <a href=\"https://orcid.org/0000-0002-6300-0521\">\n",
    "                    <img width='22'  src=\"https://raw.githubusercontent.com/cleitoncmf/cleitoncmf/9520a795b3aac14dceb39e4e3652bf4eff38dbd3/Images/Orcid25x25.svg\" />\n",
    "                </a>\n",
    "            </div>\n",
    "            <div style=\"width: 17%; display: table-cell;\">\n",
    "                <a href=\"https://www.researchgate.net/profile/Cleiton_Freitas\">\n",
    "                    <img  src=\"https://raw.githubusercontent.com/cleitoncmf/cleitoncmf/9520a795b3aac14dceb39e4e3652bf4eff38dbd3/Images/ResearchGate25x25.svg\" width='22'/>\n",
    "                </a>\n",
    "            </div>                 \n",
    "            <div style=\"width: 17%; display: table-cell;\">\n",
    "                <a href=\"https://www.mendeley.com/profiles/cleiton-freitas3/\">\n",
    "                    <img  src=\"https://raw.githubusercontent.com/cleitoncmf/cleitoncmf/9520a795b3aac14dceb39e4e3652bf4eff38dbd3/Images/Mendeley25x25.svg\" width='22'/>\n",
    "                </a>\n",
    "            </div>\n",
    "            <div style=\"width: 17%; display: table-cell;\">\n",
    "                <a href=\"https://scholar.google.com.br/citations?user=Nq_YDvIAAAAJ&hl=pt-BR&oi=ao\">\n",
    "                    <img  src=\"https://raw.githubusercontent.com/cleitoncmf/cleitoncmf/9520a795b3aac14dceb39e4e3652bf4eff38dbd3/Images/GoogleScholar25x25.svg\" width='22'/>\n",
    "                </a>\n",
    "            </div>     \n",
    "            <div style=\"width: 17%; display: table-cell;\">\n",
    "                <a href=\"https://publons.com/researcher/1561461/cleiton-magalhaes-freitas/\">\n",
    "                    <img  src=\"https://raw.githubusercontent.com/cleitoncmf/cleitoncmf/9520a795b3aac14dceb39e4e3652bf4eff38dbd3/Images/Publons25x25.svg\" width='22'/>\n",
    "                </a>\n",
    "            </div> \n",
    "            </div>     \n",
    "            <div style=\"width: 17%; display: table-cell;\">\n",
    "                <a href=\"http://lattes.cnpq.br/8580465355265899\">\n",
    "                    <img  src=\"https://raw.githubusercontent.com/cleitoncmf/cleitoncmf/9520a795b3aac14dceb39e4e3652bf4eff38dbd3/Images/Lattes25x25.svg\" width='22'/>\n",
    "                </a>\n",
    "            </div>                     \n",
    "        </div>\n",
    "    </center>\n",
    "</div>\n",
    "\n",
    "# Initial analysis of the current controlled MMC\n",
    "\n",
    "This notebook was created for presenting some initial analysis of the NRF current-controlled MMC. Differently from the thesis, it is intend here to consider the dynamics of the PLL."
   ]
  },
  {
   "cell_type": "code",
   "execution_count": 1,
   "metadata": {},
   "outputs": [],
   "source": [
    "import sympy as sp\n",
    "import control as ctrl\n",
    "import numpy as np\n",
    "\n",
    "\n",
    "# My modules \n",
    "from MMC import MMC\n",
    "from LINEARCTRL import LINEARCTRL\n",
    "from MMC_CTRL_NRF_I import MMC_CTRL_NRF_I\n",
    "from bodeFromDataFrame import bodeFromDataFrame\n"
   ]
  },
  {
   "cell_type": "code",
   "execution_count": 2,
   "metadata": {},
   "outputs": [],
   "source": [
    "# Definition of the Laplace-domain frequency\n",
    "s = ctrl.tf('s')\n",
    "\n",
    "# Definition of the MMC with the same parameters considered in the Thesis\n",
    "mmc_0 = MMC(s = s)\n",
    "\n",
    "# Definition of the current cotroller used in the thesis\n",
    "Ci_0 = LINEARCTRL(type='PR',kp=0.0001, kr=0.01,d=0,w0=2*np.pi*60,s=s)\n",
    "\n",
    "# MMC model without considering the PLL (used in the thesis)\n",
    "mmc_ctrl_i_0 = MMC_CTRL_NRF_I(Ci = Ci_0, s = s, Converter=mmc_0)"
   ]
  },
  {
   "cell_type": "code",
   "execution_count": 3,
   "metadata": {},
   "outputs": [],
   "source": [
    "# different controllers \n",
    "\n",
    "Ci_10 = LINEARCTRL(type='PR',kp=0.001, kr=0.01,d=0,w0=2*np.pi*60,s=s)\n",
    "Ci_20 = LINEARCTRL(type='PR',kp=0.01, kr=0.01,d=0,w0=2*np.pi*60,s=s)\n",
    "\n",
    "\n",
    "# Models for the different control settings\n",
    "mmc_ctrl_i_10 = MMC_CTRL_NRF_I(Ci = Ci_10, s = s, Converter=mmc_0)\n",
    "mmc_ctrl_i_20 = MMC_CTRL_NRF_I(Ci = Ci_20, s = s, Converter=mmc_0)\n"
   ]
  },
  {
   "cell_type": "code",
   "execution_count": null,
   "metadata": {},
   "outputs": [],
   "source": [
    "# dataframe with te frequency responses of the initial test\n",
    "\n",
    "# RF_Yca_0 = ctrl.bode(mmc_ctrl_i_0.Yac,Plot=False)\n",
    "\n",
    "# dataFrameYTF = pd.DataFrame(data = np.array([teste_YTF[2],teste_YTF[0],teste_YTF[1]]).T,  columns=['w','magdB','phase'])\n",
    "# dataFrameYTF.insert(0, \"f\", teste_YTF[2]/(2*np.pi))\n",
    "# dataFrameYTF.insert(4, \"phaseDegree\", teste_YTF[1]*(180/np.pi))\n",
    "\n",
    "\n",
    "\n"
   ]
  },
  {
   "cell_type": "code",
   "execution_count": null,
   "metadata": {},
   "outputs": [],
   "source": []
  },
  {
   "cell_type": "code",
   "execution_count": 6,
   "metadata": {
    "tags": []
   },
   "outputs": [
    {
     "output_type": "stream",
     "name": "stdout",
     "text": "\u001b[33mWarning: s might not be neither an transfer-fucntion nor a symbolic-math object\u001b[0m\n"
    }
   ],
   "source": [
    "from DataFrameFromRF import DataFrameFromRF\n",
    "\n",
    "teste = DataFrameFromRF(G =mmc_ctrl_i_0.Yac, s = s, freqList=[1,2])\n",
    "teste2 = DataFrameFromRF(G =sp.Symbol('b')/sp.Symbol('a'), s = s, freqList=[1,2])\n",
    "teste3 = DataFrameFromRF(G =5, s = s, freqList=[1,2])"
   ]
  },
  {
   "cell_type": "code",
   "execution_count": 7,
   "metadata": {},
   "outputs": [
    {
     "output_type": "display_data",
     "data": {
      "text/plain": "1"
     },
     "metadata": {}
    },
    {
     "output_type": "display_data",
     "data": {
      "text/plain": "2"
     },
     "metadata": {}
    },
    {
     "output_type": "display_data",
     "data": {
      "text/plain": "3"
     },
     "metadata": {}
    }
   ],
   "source": [
    "display(teste,teste2,teste3)"
   ]
  },
  {
   "cell_type": "code",
   "execution_count": null,
   "metadata": {},
   "outputs": [],
   "source": []
  }
 ]
}