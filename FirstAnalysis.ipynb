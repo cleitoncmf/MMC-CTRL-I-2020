{
 "metadata": {
  "language_info": {
   "codemirror_mode": {
    "name": "ipython",
    "version": 3
   },
   "file_extension": ".py",
   "mimetype": "text/x-python",
   "name": "python",
   "nbconvert_exporter": "python",
   "pygments_lexer": "ipython3",
   "version": "3.7.2-final"
  },
  "orig_nbformat": 2,
  "kernelspec": {
   "name": "c54f390b-6a23-4e1c-9cbd-730e43f2f970",
   "display_name": "'Python Interactive'"
  }
 },
 "nbformat": 4,
 "nbformat_minor": 2,
 "cells": [
  {
   "cell_type": "markdown",
   "metadata": {},
   "source": [
    "<div class=\"alert alert-block alert-info\">\n",
    "    <img src=\"https://www.uerj.br/wp-content/uploads/2019/07/logo-70anos-site.svg\" alt=\"Trulli\" width=\"220\" align=\"left\">\n",
    "    <center style=\"width: 80%;\">\n",
    "        <div> <b>Author:</b> Cleiton Magalhães Freitas</div>\n",
    "        <div> <b>Department:</b> Electrical Engineering Department</div>\n",
    "        <div> <b>University:</b> Rio de Janeiro State University</div>\n",
    "        <div> <b>Email:</b> cleiton.freitas@uerj.br</div>\n",
    "        <div> <b>Date:</b> August 11, 2020</div>\n",
    "        <div style=\"display: table;\">\n",
    "            <div style=\"width: 17%; display: table-cell;\">\n",
    "                <a href=\"https://orcid.org/0000-0002-6300-0521\">\n",
    "                    <img width='22'  src=\"https://raw.githubusercontent.com/cleitoncmf/cleitoncmf/9520a795b3aac14dceb39e4e3652bf4eff38dbd3/Images/Orcid25x25.svg\" />\n",
    "                </a>\n",
    "            </div>\n",
    "            <div style=\"width: 17%; display: table-cell;\">\n",
    "                <a href=\"https://www.researchgate.net/profile/Cleiton_Freitas\">\n",
    "                    <img  src=\"https://raw.githubusercontent.com/cleitoncmf/cleitoncmf/9520a795b3aac14dceb39e4e3652bf4eff38dbd3/Images/ResearchGate25x25.svg\" width='22'/>\n",
    "                </a>\n",
    "            </div>                 \n",
    "            <div style=\"width: 17%; display: table-cell;\">\n",
    "                <a href=\"https://www.mendeley.com/profiles/cleiton-freitas3/\">\n",
    "                    <img  src=\"https://raw.githubusercontent.com/cleitoncmf/cleitoncmf/9520a795b3aac14dceb39e4e3652bf4eff38dbd3/Images/Mendeley25x25.svg\" width='22'/>\n",
    "                </a>\n",
    "            </div>\n",
    "            <div style=\"width: 17%; display: table-cell;\">\n",
    "                <a href=\"https://scholar.google.com.br/citations?user=Nq_YDvIAAAAJ&hl=pt-BR&oi=ao\">\n",
    "                    <img  src=\"https://raw.githubusercontent.com/cleitoncmf/cleitoncmf/9520a795b3aac14dceb39e4e3652bf4eff38dbd3/Images/GoogleScholar25x25.svg\" width='22'/>\n",
    "                </a>\n",
    "            </div>     \n",
    "            <div style=\"width: 17%; display: table-cell;\">\n",
    "                <a href=\"https://publons.com/researcher/1561461/cleiton-magalhaes-freitas/\">\n",
    "                    <img  src=\"https://raw.githubusercontent.com/cleitoncmf/cleitoncmf/9520a795b3aac14dceb39e4e3652bf4eff38dbd3/Images/Publons25x25.svg\" width='22'/>\n",
    "                </a>\n",
    "            </div> \n",
    "            </div>     \n",
    "            <div style=\"width: 17%; display: table-cell;\">\n",
    "                <a href=\"http://lattes.cnpq.br/8580465355265899\">\n",
    "                    <img  src=\"https://raw.githubusercontent.com/cleitoncmf/cleitoncmf/9520a795b3aac14dceb39e4e3652bf4eff38dbd3/Images/Lattes25x25.svg\" width='22'/>\n",
    "                </a>\n",
    "            </div>                     \n",
    "        </div>\n",
    "    </center>\n",
    "</div>\n",
    "\n",
    "# Initial analysis of the current controlled MMC\n",
    "\n",
    "This notebook was created for presenting some initial analysis of the NRF current-controlled MMC. Differently from the thesis, it is intend here to consider the dynamics of the PLL."
   ]
  },
  {
   "cell_type": "code",
   "execution_count": 1,
   "metadata": {},
   "outputs": [],
   "source": [
    "import sympy as sp\n",
    "import control as ctrl\n",
    "import numpy as np\n",
    "\n",
    "\n",
    "# My modules \n",
    "from MMC import MMC\n",
    "from LINEARCTRL import LINEARCTRL\n",
    "from MMC_CTRL_NRF_I import MMC_CTRL_NRF_I\n"
   ]
  },
  {
   "cell_type": "code",
   "execution_count": 2,
   "metadata": {},
   "outputs": [],
   "source": [
    "# Definition of the Laplace-domain frequency\n",
    "s = ctrl.tf('s')\n",
    "\n",
    "# Definition of the MMC with the same parameters considered in the Thesis\n",
    "mmc_0 = MMC(s = s)\n",
    "\n",
    "# Definition of the current cotroller\n",
    "Ci_0 = LINEARCTRL(type='PR',kp=0.0001, kr=0.01,d=0,w0=2*np.pi*60,s=s)\n",
    "\n",
    "# MMC model without considering the PLL\n",
    "mmc_ctrl_i_0 = MMC_CTRL_NRF_I(Ci = Ci_0, s = s, Converter=mmc_0)"
   ]
  },
  {
   "cell_type": "code",
   "execution_count": 3,
   "metadata": {},
   "outputs": [
    {
     "output_type": "display_data",
     "data": {
      "text/plain": "\n0.0001 s^2 + 0.01 s + 14.21\n---------------------------\n      s^2 + 1.421e+05",
      "text/latex": "$$\\frac{0.0001 s^2 + 0.01 s + 14.21}{s^2 + 1.421 \\times 10^{5}}$$"
     },
     "metadata": {}
    },
    {
     "output_type": "display_data",
     "data": {
      "text/plain": "\n                 33.9 s^3 + 4.818e+06 s\n--------------------------------------------------------\ns^4 + 305.1 s^3 + 1.774e+05 s^2 + 4.34e+07 s + 1.398e+09",
      "text/latex": "$$\\frac{33.9 s^3 + 4.818 \\times 10^{6} s}{s^4 + 305.1 s^3 + 1.774 \\times 10^{5} s^2 + 4.34 \\times 10^{7} s + 1.398 \\times 10^{9}}$$"
     },
     "metadata": {}
    }
   ],
   "source": [
    "display(mmc_ctrl_i_0.Controller.TF)\n",
    "\n",
    "display(mmc_ctrl_i_0.Yac)"
   ]
  },
  {
   "cell_type": "code",
   "execution_count": 5,
   "metadata": {},
   "outputs": [],
   "source": [
    "\n",
    "\n"
   ]
  },
  {
   "cell_type": "code",
   "execution_count": null,
   "metadata": {},
   "outputs": [],
   "source": []
  }
 ]
}